{
 "cells": [
  {
   "cell_type": "markdown",
   "metadata": {
    "colab_type": "text",
    "id": "view-in-github"
   },
   "source": [
    "<a href=\"https://colab.research.google.com/github/DiploDatos/AprendizajePorRefuerzos/blob/master/lab_1_intro_rl.ipynb\" target=\"_parent\"><img src=\"https://colab.research.google.com/assets/colab-badge.svg\" alt=\"Open In Colab\"/></a>"
   ]
  },
  {
   "cell_type": "markdown",
   "metadata": {
    "id": "4spynKMzGS4t"
   },
   "source": [
    "# Notebook 1: Introducción al aprendizaje por refuerzos\n",
    "\n",
    "Curso Aprendizaje por Refuerzos, Diplomatura en Ciencia de Datos, Aprendizaje Automático y sus Aplicaciones\n",
    "\n",
    "FaMAF, 2022"
   ]
  },
  {
   "cell_type": "markdown",
   "metadata": {
    "id": "2mlW-PAFGS4z"
   },
   "source": [
    "## Introducción\n",
    "\n",
    "En el siguiente notebook se muestra cómo ejecutar agentes de aprendizaje por refuerzos, los cuáles son necesarios para realizar este Lab."
   ]
  },
  {
   "cell_type": "markdown",
   "metadata": {},
   "source": [
    "### Repaso rápido\n"
   ]
  },
  {
   "cell_type": "markdown",
   "metadata": {
    "tags": []
   },
   "source": [
    "\n",
    "* Recompensa: señal $r$ recibida desde el entorno que recompensa o castiga el agente según su desempeño con respecto al objetivo de la tarea.\n",
    "\n",
    "* Valor: función $v_\\pi (s)$ que establece cuánto el agente espera percibir de recompensa al seguir la política $\\pi$ partiendo desde el estado $s$. También se la suele expresar como $Q_\\pi(s,a)$, indicando cuánto el agente espera percibir siguiendo la política $\\pi$ partiendo desde el estado $s$ y siguiendo la acción $a$.\n",
    "\n",
    "* Política: función $\\pi(s) \\to a$ que mapea un estado a una acción. Se suele expresar como probabilidad de elegir la acción $\\pi(a \\mid s)$. La política $\\epsilon$-greedy, en donde $\\epsilon$ es la probabilidad de exploración (normalmente menor que la probabilidad de explotación) está dada por\n",
    "$$\\pi(a \\mid s) = 1 - \\epsilon$$ si $a$ es la mejor acción, caso contrario $$\\pi(a \\mid s) = \\epsilon$$\n",
    "\n",
    "Por otra parte, en la política Softmax, no se busca la acción con máxima probabilidad sino que se computa la probabilidad de cada una mediante la función Softmax y se realiza un sorteo entre ellas pesado por la misma. Así, para cada acción $a$, $$\\pi(a \\mid s) = \\frac{e^{Q(s,a)/\\tau}}{\\sum_{\\widetilde{a} \\in A}e^{Q(s,\\widetilde{a})/\\tau}}$$"
   ]
  },
  {
   "cell_type": "markdown",
   "metadata": {
    "tags": []
   },
   "source": [
    "En este notebook vemos dos algoritmos para actualizar la función de valor (y, por lo tanto, la política de selección de acciones):\n",
    "\n",
    "* Actualización por SARSA (on-policy).\n",
    "\n",
    "$$Q(s,a) \\gets Q(s,a) + \\alpha (r + \\gamma Q(s',a') - Q(s,a))$$\n",
    "\n",
    "Algoritmo completo (a modo de referencia):\n",
    "\n",
    "![Algoritmo SARSA](images/sarsa.png)\n"
   ]
  },
  {
   "cell_type": "markdown",
   "metadata": {
    "tags": []
   },
   "source": [
    "* Actualización por Q-Learning (off-policy)\n",
    "\n",
    "$$Q(s,a) \\gets Q(s,a) + \\alpha (r + \\gamma \\arg\\max_{a'} Q(s',a') - Q(s,a))$$\n",
    "\n",
    "Algoritmo completo (a modo de referencia):\n",
    "\n",
    "![Algoritmo Q-Learning](images/q_learning.png)\n",
    "\n",
    "Fuente de las imágenes: capítulo 6 de [Reinforcement Learning: An Introduction](http://www.incompleteideas.net/book/the-book.html)."
   ]
  },
  {
   "cell_type": "markdown",
   "metadata": {
    "id": "a7BO38B6GS4z"
   },
   "source": [
    "## Librería a usar: Librería OpenAI Gym\n",
    "\n",
    "[OpenAI Gym](https://gym.openai.com/) (Brockman et. al., 2016) es una librería de OpenAI que ofrece entornos y una interfaz estándar con la cuál probar nuestros agentes. Su objetivo es proveer benchmarks unificados para ver el desempeño de algoritmos en el entorno y así poder saber con facilidad cómo es su desempeño comparado con los demás. Parte de la siguiente sección está basada en la [documentación oficial de OpenAI](https://gym.openai.com/docs/)."
   ]
  },
  {
   "cell_type": "markdown",
   "metadata": {
    "id": "YY7NVUdpGS40"
   },
   "source": [
    "La interfaz principal de los ambientes de gym es la interfaz Env. La misma posee cinco métodos principales:\n",
    "\n",
    "* ```reset(self)``` : Reinicia el estado del entorno, a su estado inicial, devolviendo una observación de dicho estado.\n",
    "\n",
    "* ```step(self, action)``` : \"Avanza\" un timestep del ambiente. Devuelve: ```observation, reward, done, info```.\n",
    "\n",
    "* ```render(self)``` : Muestra en pantalla una parte del ambiente.\n",
    "\n",
    "* ```close(self)``` : Finaliza con la instancia del agente.\n",
    "\n",
    "* ```seed(self)``` : Establece la semilla aleatoria del generador de números aleatorios del presente entorno.\n",
    "\n",
    "\n",
    "Por otra parte, cada entorno posee los siguientes tres atributos principales:\n",
    "\n",
    "* ```action_space``` : El objeto de tipo Space correspondiente al espacio de acciones válidas.\n",
    "\n",
    "* ```observation_space``` : El objeto de tipo Space correspondiente a todos los rangos posibles de observaciones.\n",
    "\n",
    "* ```reward_range``` : Tupla que contiene los valores mínimo y máximo de recompensa posible."
   ]
  },
  {
   "cell_type": "markdown",
   "metadata": {
    "id": "TTMpnXzcGS40"
   },
   "source": [
    "Algunas de las ejecuciones contienen videos. Para poder verlos se necesita previamente instalar la librería ffmpeg; para instalarla desde Linux ejecutar en consola\n",
    "\n",
    "```apt-get install ffmpeg```\n",
    "\n",
    "desde Mac, reemplazar *apt-get* por *brew*\n",
    "\n",
    "desde Windows, descargarla desde\n",
    "\n",
    "[https://ffmpeg.org/download.html](https://ffmpeg.org/download.html)\n",
    "\n",
    "(Nota: las animaciones son a modo ilustrativo, si no se desea instalar la librería se puede directamente eliminar la línea de código donde se llama al método ``env.render(mode='human')``)"
   ]
  },
  {
   "cell_type": "markdown",
   "metadata": {
    "id": "TZDT_O0UGS40"
   },
   "source": [
    "Código básico de importación y funciones de graficación (no modificar)"
   ]
  },
  {
   "cell_type": "code",
   "execution_count": 1,
   "metadata": {
    "cellView": "form",
    "hideCode": true,
    "id": "5jUjOuhYGS42",
    "tags": [
     "hide-cell"
    ]
   },
   "outputs": [],
   "source": [
    "#@title Código básico de graficación (no modificar)\n",
    "\n",
    "import numpy as np\n",
    "import matplotlib.pyplot as plt\n",
    "import itertools\n",
    "import gym\n",
    "\n",
    "def plot_reward_per_episode(reward_ep):\n",
    "\n",
    "    episode_rewards = np.array(reward_ep)\n",
    "\n",
    "    # se suaviza la curva de convergencia\n",
    "    episode_number = np.linspace(1, len(episode_rewards) + 1, len(episode_rewards) + 1)\n",
    "    acumulated_rewards = np.cumsum(episode_rewards)\n",
    "\n",
    "    reward_per_episode = [acumulated_rewards[i] / episode_number[i] for i in range(len(acumulated_rewards))]\n",
    "\n",
    "    plt.plot(reward_per_episode)\n",
    "    plt.title('Recompensa acumulada por episodio')\n",
    "    plt.show()\n",
    "    \n",
    "    \n",
    "def plot_steps_per_episode(timesteps_ep):\n",
    "    # se muestra la curva de aprendizaje de los pasos por episodio\n",
    "    episode_steps = np.array(timesteps_ep)\n",
    "    plt.plot(np.array(range(0, len(episode_steps))), episode_steps)\n",
    "    plt.title('Pasos (timesteps) por episodio')\n",
    "    plt.show()\n",
    "    \n",
    "    \n",
    "def plot_steps_per_episode_smooth(timesteps_ep):\n",
    "    episode_steps = np.array(timesteps_ep)\n",
    "\n",
    "    # se suaviza la curva de aprendizaje\n",
    "    episode_number = np.linspace(1, len(episode_steps) + 1, len(episode_steps) + 1)\n",
    "    acumulated_steps = np.cumsum(episode_steps)\n",
    "\n",
    "    steps_per_episode = [acumulated_steps[i] / episode_number[i] for i in range(len(acumulated_steps))]\n",
    "\n",
    "    plt.plot(steps_per_episode)\n",
    "    plt.title('Pasos (timesteps) acumulados por episodio')\n",
    "    plt.show()\n",
    "    \n",
    "\n",
    "def draw_value_matrix(q):\n",
    "\n",
    "    n_rows = 4\n",
    "    n_columns = 12\n",
    "    n_actions = 4\n",
    "\n",
    "    # se procede con los cálculos previos a la graficación de la matriz de valor\n",
    "    q_value_matrix = np.empty((n_rows, n_columns))\n",
    "    for row in range(n_rows):\n",
    "        for column in range(n_columns):\n",
    "\n",
    "            state_values = []\n",
    "\n",
    "            for action in range(n_actions):\n",
    "                state_values.append(q.get((row * n_columns + column, action), -100))\n",
    "\n",
    "            maximum_value = max(state_values)  # determinamos la acción que arroja máximo valor\n",
    "\n",
    "\n",
    "            q_value_matrix[row, column] = maximum_value\n",
    "\n",
    "    # el valor del estado objetivo se asigna en -1 (reward recibido al llegar) para que se coloree de forma apropiada\n",
    "    q_value_matrix[3, 11] = -1\n",
    "\n",
    "    # se grafica la matriz de valor\n",
    "    plt.imshow(q_value_matrix, cmap=plt.cm.RdYlGn)\n",
    "    plt.tight_layout()\n",
    "    plt.colorbar()\n",
    "\n",
    "    for row, column in itertools.product(range(q_value_matrix.shape[0]), range(q_value_matrix.shape[1])):\n",
    "\n",
    "        left_action = q.get((row * n_columns + column, 3), -1000)\n",
    "        down_action = q.get((row * n_columns + column, 2), -1000)\n",
    "        right_action = q.get((row * n_columns + column, 1), -1000)\n",
    "        up_action = q.get((row * n_columns + column, 0), -1000)\n",
    "\n",
    "        arrow_direction = 'D'\n",
    "        best_action = down_action\n",
    "\n",
    "        if best_action < right_action:\n",
    "            arrow_direction = 'R'\n",
    "            best_action = right_action\n",
    "        if best_action < left_action:\n",
    "            arrow_direction = 'L'\n",
    "            best_action = left_action\n",
    "        if best_action < up_action:\n",
    "            arrow_direction = 'U'\n",
    "            best_action = up_action\n",
    "        if best_action == -1:\n",
    "            arrow_direction = ''\n",
    "\n",
    "        # notar que column, row están invertidos en orden en la línea de abajo porque representan a x,y del plot\n",
    "        plt.text(column, row, arrow_direction, horizontalalignment=\"center\")\n",
    "\n",
    "    plt.xticks([])\n",
    "    plt.yticks([])\n",
    "    plt.show()\n",
    "\n",
    "    print('\\n Matriz de mejor acción-valor (en números): \\n\\n', q_value_matrix)"
   ]
  },
  {
   "cell_type": "markdown",
   "metadata": {
    "id": "yJ1y2VTGGS42"
   },
   "source": [
    "Ejemplo: agente CartPole"
   ]
  },
  {
   "cell_type": "code",
   "execution_count": 2,
   "metadata": {
    "id": "YPkxgtSiGS43"
   },
   "outputs": [],
   "source": [
    "import gym\n",
    "import time\n",
    "from IPython.display import clear_output\n",
    "\n",
    "try:\n",
    "  import google.colab\n",
    "  IN_COLAB = True\n",
    "except:\n",
    "  IN_COLAB = False\n",
    "\n",
    "# no es posible mostrar videos de ejecución del agente desde Colab\n",
    "if not IN_COLAB:\n",
    "\n",
    "    env = gym.make('CartPole-v0')\n",
    "    env.reset()\n",
    "    for _ in range(500):\n",
    "        env.render(mode='human')\n",
    "        observation, reward, done, info = env.step(env.action_space.sample()) # se ejecuta una acción aleatoria\n",
    "        if done:\n",
    "            env.reset()\n",
    "    env.close()\n",
    "    clear_output()"
   ]
  },
  {
   "cell_type": "markdown",
   "metadata": {
    "id": "UQ_A87JtGS43"
   },
   "source": [
    "Ejemplo: agente Mountain Car"
   ]
  },
  {
   "cell_type": "code",
   "execution_count": 3,
   "metadata": {
    "id": "QHDTjlpEGS43"
   },
   "outputs": [],
   "source": [
    "if not IN_COLAB:\n",
    "    env = gym.make('MountainCar-v0')\n",
    "    observation = env.reset()\n",
    "    for t in range(500):\n",
    "        env.render(mode='human')\n",
    "        action = env.action_space.sample()\n",
    "        observation, reward, done, info = env.step(action)\n",
    "        if done:\n",
    "            print(\"Episode finished after {} timesteps\".format(t+1))\n",
    "            break\n",
    "    env.close()\n",
    "    clear_output()"
   ]
  },
  {
   "cell_type": "markdown",
   "metadata": {
    "id": "NrdYut6HGS44"
   },
   "source": [
    "## Ejemplo 1: The Cliff. \n"
   ]
  },
  {
   "cell_type": "markdown",
   "metadata": {
    "id": "P6bNIHCQGS44"
   },
   "source": [
    "![](https://github.com/GIDISIA/RLDiplodatos/blob/master/images/cliffwalking.png?raw=1)\n",
    "\n",
    "donde S= starting point, G= goal\n",
    "\n",
    "(imagen de Sutton y Barto, 2018)"
   ]
  },
  {
   "cell_type": "markdown",
   "metadata": {
    "id": "VYvKmWcsGS44"
   },
   "source": [
    "Descripción del entorno:\n",
    "\n",
    "Acciones:\n",
    "\n",
    "* $\\uparrow$ - Arriba\n",
    "* $\\downarrow$ - Abajo\n",
    "* $\\rightarrow$ - Derecha\n",
    "* $\\leftarrow$ - Izquierda\n",
    "\n",
    "Función de recompensa:\n",
    "\n",
    "* $-1$ en todos los demás estados \n",
    "* $-100$ en el acantilado\n",
    "\n",
    "Nota: caer en el acantilado devuelve al agente al estado inicial en un mismo episodio"
   ]
  },
  {
   "cell_type": "markdown",
   "metadata": {
    "id": "XZ2D3hokGS44"
   },
   "source": [
    "Vemos los bloques básicos de nuestro agente"
   ]
  },
  {
   "cell_type": "markdown",
   "metadata": {
    "id": "yKgvYRiOGS44"
   },
   "source": [
    "Definimos el método de elección de acciones. En este caso el mismo utiliza la política de exploración $\\epsilon$-greedy."
   ]
  },
  {
   "cell_type": "code",
   "execution_count": 4,
   "metadata": {
    "id": "T8XHFSZiGS44"
   },
   "outputs": [],
   "source": [
    "def choose_action(state):\n",
    "    \"\"\"\n",
    "    Chooses an action according to the learning previously performed \n",
    "    using an epsilon-greedy exploration policy\n",
    "    \"\"\"\n",
    "    q_values = [q.get((state, a), 0.0) for a in actions]  # ej: para 4 acciones inicializa en [0,0,0,0]\n",
    "    max_q = max(q_values)\n",
    "\n",
    "    if random_state.uniform() < epsilon:  # sorteamos un número: es menor a épsilon?\n",
    "        return random_state.choice(actions)  # sí: se selecciona una acción aleatoria\n",
    "\n",
    "    count = q_values.count(max_q)\n",
    "\n",
    "    \n",
    "    # hay más de un máximo valor de estado-acción?\n",
    "    if count > 1:\n",
    "        # sí: seleccionamos uno de ellos aleatoriamente\n",
    "        best = [i for i in range(len(actions)) if q_values[i] == max_q]\n",
    "        i = random_state.choice(best)\n",
    "    else:\n",
    "        # no: seleccionamos el máximo valor de estado-acción\n",
    "        i = q_values.index(max_q)\n",
    "\n",
    "    return actions[i]"
   ]
  },
  {
   "cell_type": "markdown",
   "metadata": {
    "id": "fH6yG3UNGS45"
   },
   "source": [
    "Definimos el esqueleto del método learn, el cuál toma una transición y cambia el dict de los valores de Q de acuerdo a algún algoritmo."
   ]
  },
  {
   "cell_type": "code",
   "execution_count": 5,
   "metadata": {
    "id": "5RgIJcbGGS45"
   },
   "outputs": [],
   "source": [
    "def learn(state, action, reward, next_state, next_action):\n",
    "    \"\"\"\n",
    "    Performs a SARSA update for a given state transition\n",
    "    \"\"\"\n",
    "    \n",
    "    # alpha = 0.5\n",
    "    # gamma = 1\n",
    "    # epsilon = 0.1\n",
    "    # tau = 25\n",
    "    q.get((next_state, next_action),0.0)\n",
    "    q.get((state, action),0.0)\n",
    "    q[(state,action)] = q.get((state, action),0.0) + alpha*(reward + gamma * q.get((next_state, next_action),0.0) - q.get((state, action),0.0))\n",
    "    \n",
    "    # TODO - completa con tu código aquí\n",
    "    \n",
    "    pass"
   ]
  },
  {
   "cell_type": "markdown",
   "metadata": {
    "id": "9xrOq-6jGS45"
   },
   "source": [
    "Finalmente, definimos el método principal de iteraciones. "
   ]
  },
  {
   "cell_type": "code",
   "execution_count": 10,
   "metadata": {
    "id": "EatmEq8XGS45"
   },
   "outputs": [],
   "source": [
    "def run():\n",
    "    \"\"\"\n",
    "    Runs the reinforcement learning agent with a given configuration.\n",
    "    \"\"\"\n",
    "    timesteps_of_episode = []  # registro de la cantidad de pasos que le llevó en cada episodio\n",
    "    reward_of_episode = []  # cantidad de recompensa que recibió el agente en cada episodio\n",
    "\n",
    "    for i_episode in range(episodes_to_run):\n",
    "        # se ejecuta una instancia del agente hasta que el mismo llega a la salida\n",
    "        # o tarda más de 2000 pasos\n",
    "\n",
    "        # reinicia el ambiente, obteniendo el estado inicial del mismo\n",
    "        state = env.reset()\n",
    "\n",
    "        episode_reward = 0\n",
    "        done = False\n",
    "        t = 0\n",
    "\n",
    "        # elige una acción basado en el estado actual\n",
    "        action = choose_action(state)\n",
    "        \n",
    "        while not done:\n",
    "\n",
    "            # el agente ejecuta la acción elegida y obtiene los resultados\n",
    "            #env.render(mode='human')\n",
    "            next_state, reward, done, info = env.step(action)\n",
    "            \n",
    "            next_action = choose_action(next_state)\n",
    "            \n",
    "\n",
    "            episode_reward += reward\n",
    "            learn(state, action, reward, next_state, next_action)\n",
    "\n",
    "            if not done and t < 2000:  # if the algorithm does not converge, it stops after 2000 timesteps\n",
    "                state = next_state\n",
    "                action = next_action\n",
    "            else:\n",
    "                # el algoritmo no ha podido llegar a la meta antes de dar 2000 pasos\n",
    "                done = True  # se establece manualmente la bandera done\n",
    "                timesteps_of_episode = np.append(timesteps_of_episode, [int(t + 1)])\n",
    "                reward_of_episode = np.append(reward_of_episode, max(episode_reward, -100))\n",
    "\n",
    "            t += 1\n",
    "\n",
    "    return reward_of_episode.mean(), timesteps_of_episode, reward_of_episode"
   ]
  },
  {
   "cell_type": "markdown",
   "metadata": {
    "id": "YQqcI9RTGS46"
   },
   "source": [
    "Definidos los métodos básicos, procedemos a instanciar a nuestro agente."
   ]
  },
  {
   "cell_type": "code",
   "execution_count": 11,
   "metadata": {
    "id": "JWE7qhNvGS46"
   },
   "outputs": [],
   "source": [
    "# se crea el diccionario que contendrá los valores de Q para cada tupla (estado, acción)\n",
    "q = {}\n",
    "\n",
    "# definimos sus híper-parámetros básicos\n",
    "\n",
    "alpha = 0.5\n",
    "gamma = 1\n",
    "epsilon = 0.1\n",
    "tau = 25\n",
    "\n",
    "episodes_to_run = 500\n",
    "\n",
    "env = gym.make(\"CliffWalking-v0\")\n",
    "actions = range(env.action_space.n)\n",
    "\n",
    "# se declara una semilla aleatoria\n",
    "random_state = np.random.RandomState(42)"
   ]
  },
  {
   "cell_type": "markdown",
   "metadata": {
    "id": "3nBgpEltGS47"
   },
   "source": [
    "Ya instanciado, ejecutamos nuestro agente"
   ]
  },
  {
   "cell_type": "code",
   "execution_count": 12,
   "metadata": {},
   "outputs": [
    {
     "data": {
      "text/plain": [
       "{}"
      ]
     },
     "execution_count": 12,
     "metadata": {},
     "output_type": "execute_result"
    }
   ],
   "source": [
    "q"
   ]
  },
  {
   "cell_type": "code",
   "execution_count": 13,
   "metadata": {
    "id": "r_Y6EMN3GS47"
   },
   "outputs": [],
   "source": [
    "avg_steps_per_episode, timesteps_ep, reward_ep = run()"
   ]
  },
  {
   "cell_type": "markdown",
   "metadata": {
    "id": "LgNpJUV9GS47"
   },
   "source": [
    "### Análisis de la ejecución del agente\n",
    "\n",
    "#### Análisis de convergencia\n",
    "\n",
    "A diferencia de lo que sucede en el aprendizaje supervisado, en el aprendizaje por refuerzos el rendimiento se evalúa por una función específica que es la función de recompensa. En la práctica, la función de recompensa puede ser externa (y provista por el entorno) o bien puede ser una función creada por diseño (a modo de dirigir el agente hacia lo que por diseño se considera mejor, en nuestro ejemplo podría ser con una recompensa de $+1$ cada vez que el agente llega al estado objetivo). Esto se conoce como *reward shaping*, y hay que tener mucho cuidado con los posibles efectos secundarios de su uso.\n",
    "\n",
    "Como el objetivo de RL es maximizar la recompensa obtenida, es posible utilizar la información sobre la obtención de la recompensas en cada time-step o episodio para evaluar el rendimiento parcial del agente (esto depende mucho de la particularidad de la distribución de la recompensa para el problema tratado)."
   ]
  },
  {
   "cell_type": "markdown",
   "metadata": {
    "id": "yiciXUMeGS47"
   },
   "source": [
    "Para analizar la ejecución del agente, vamos a ver cómo se desempeñó el mismo en dos curvas:\n",
    "\n",
    "* Recompensa obtenida en cada episodio: nos dirá cuánta recompensa obtuvo el agente sumando cada una de recompensas individuales de cada episodio. Con esta medida podremos tener una noción de cómo se desempeñó esquivando el acantilado y llegando lo antes posible a la meta.\n",
    "\n",
    "* Pasos transcurridos en cada episodio: indicará cuántos pasos le ha llevado al agente la ejecución del episodio.\n",
    "\n",
    "Se estila suavizar ambas curvas para apreciar mejor su progresión (aunque a veces suele analizarse la curva de pasos por episodio sin suavizar)."
   ]
  },
  {
   "cell_type": "markdown",
   "metadata": {
    "id": "QQKMwQ2mGS47"
   },
   "source": [
    "Veamos recompensa por episodio (recordar que en este entorno cada paso otorga una recompensa de $-1$ excepto al caer al acantilado, donde la recompensa es de $-100$)"
   ]
  },
  {
   "cell_type": "code",
   "execution_count": 14,
   "metadata": {
    "colab": {
     "base_uri": "https://localhost:8080/",
     "height": 281
    },
    "id": "SsDunXlHGS47",
    "outputId": "a638f75b-418f-4daa-fe02-89cb03f770ab"
   },
   "outputs": [
    {
     "data": {
      "image/png": "[encoded data removed]",
      "text/plain": [
       "<Figure size 432x288 with 1 Axes>"
      ]
     },
     "metadata": {
      "needs_background": "light"
     },
     "output_type": "display_data"
    }
   ],
   "source": [
    "plot_reward_per_episode(reward_ep)"
   ]
  },
  {
   "cell_type": "markdown",
   "metadata": {
    "id": "EjznrgIeGS48"
   },
   "source": [
    "Veamos pasos por episodio"
   ]
  },
  {
   "cell_type": "code",
   "execution_count": 10,
   "metadata": {
    "colab": {
     "base_uri": "https://localhost:8080/",
     "height": 281
    },
    "id": "7AaVw7EEGS48",
    "outputId": "41571be8-f993-4ff4-eb2c-5557d272cb10"
   },
   "outputs": [
    {
     "data": {
      "image/png": "[encoded data removed]",
      "text/plain": [
       "<Figure size 432x288 with 1 Axes>"
      ]
     },
     "metadata": {
      "needs_background": "light"
     },
     "output_type": "display_data"
    }
   ],
   "source": [
    "plot_steps_per_episode(timesteps_ep)"
   ]
  },
  {
   "cell_type": "markdown",
   "metadata": {
    "id": "_BB8NDDhGS49"
   },
   "source": [
    "Suavizando..."
   ]
  },
  {
   "cell_type": "code",
   "execution_count": 11,
   "metadata": {
    "colab": {
     "base_uri": "https://localhost:8080/",
     "height": 281
    },
    "id": "NaAXjfdKGS49",
    "outputId": "ee8a7ef1-4104-45b1-c555-d80dd92a12ed"
   },
   "outputs": [
    {
     "data": {
      "image/png": "[encoded data removed]",
      "text/plain": [
       "<Figure size 432x288 with 1 Axes>"
      ]
     },
     "metadata": {
      "needs_background": "light"
     },
     "output_type": "display_data"
    }
   ],
   "source": [
    "plot_steps_per_episode_smooth(timesteps_ep)"
   ]
  },
  {
   "cell_type": "markdown",
   "metadata": {
    "id": "QI7pxgtoGS49"
   },
   "source": [
    "#### Análisis de matriz de acción-valor y política óptima\n",
    "\n",
    "Siendo que este es un ejemplo tabular y de pocos estados / acciones, es posible realizar un análisis de convergencia desde otro punto de vista: desde el valor de la función $Q(s,a)$ para la mejor acción de cada estado, al finalizar el entrenamiento del agente, (sería la acción que el agente ejecutaría en cada estado bajo una política *greedy*). Ambos nos brindarán información sobre la convergencia alcanzada por el agente.\n",
    "\n",
    "Tener en cuenta que este análisis se hace principalmente con fines educativos, para entornos más complejos el mismo puede no ser factible. En tales casos, un análisis alternativo podría consistir en hacer que el agente ejecute su política para la que fue entrenado, para hacer una evaluación a partir del comportamiento del mismo (esto último sería el *test de la política*, frente al *entrenamiento de la política* previo)."
   ]
  },
  {
   "cell_type": "code",
   "execution_count": 12,
   "metadata": {
    "colab": {
     "base_uri": "https://localhost:8080/",
     "height": 432
    },
    "id": "rMpKRT2NGS4-",
    "outputId": "5c304631-abee-456a-adfd-28b19a00cb7d"
   },
   "outputs": [
    {
     "data": {
      "image/png": "[encoded data removed]",
      "text/plain": [
       "<Figure size 432x288 with 2 Axes>"
      ]
     },
     "metadata": {
      "needs_background": "light"
     },
     "output_type": "display_data"
    },
    {
     "name": "stdout",
     "output_type": "stream",
     "text": [
      "\n",
      " Matriz de mejor acción-valor (en números): \n",
      "\n",
      " [[-100. -100. -100. -100. -100. -100. -100. -100. -100. -100. -100. -100.]\n",
      " [-100. -100. -100. -100. -100. -100. -100. -100. -100. -100. -100. -100.]\n",
      " [-100. -100. -100. -100. -100. -100. -100. -100. -100. -100. -100. -100.]\n",
      " [-100. -100. -100. -100. -100. -100. -100. -100. -100. -100. -100.   -1.]]\n"
     ]
    }
   ],
   "source": [
    "draw_value_matrix(q)"
   ]
  },
  {
   "cell_type": "code",
   "execution_count": 13,
   "metadata": {
    "id": "ce50gtxcGS4-"
   },
   "outputs": [],
   "source": [
    "env.close()"
   ]
  },
  {
   "cell_type": "markdown",
   "metadata": {
    "id": "9VQRIwfLGS4-",
    "tags": []
   },
   "source": [
    "## Actividades\n",
    "\n",
    "1. Implementar y ejecutar el algoritmo SARSA en \"The Cliff\".\n",
    "\n",
    "2. Implementar y ejecutar el algoritmo Q-Learning en \"The Cliff\". ¿Cómo converge con respecto a SARSA? ¿A qué se debe? Comentar.\n",
    "\n",
    "3. Ejecutando con distintos híper-parámetros, realizar una breve descripción sobre cómo afectan a la convergencia los distintos valores de $\\alpha$, $\\epsilon$ y $\\gamma$.\n",
    "\n",
    "4. (Opcional) Implementar política de exploración Softmax, en donde cada acción tiene una probabilidad $$\\pi(a \\mid s) = \\frac{e^{Q(s,a)/\\tau}}{\\sum_{\\widetilde{a} \\in A}e^{Q(s,\\widetilde{a})/\\tau}}$$\n",
    "\n",
    "5. (Opcional) Implementar Dyna-Q a partir del algoritmo Q-Learning, incorporando una actualización mediante un modelo. Comentar cómo se desempeña respecto a los demás algoritmos.\n",
    "\n",
    "\n",
    "Para dejar el lab listo para su corrección, dejar link a repo de Github con un notebook ejecutando el agente en la planilla enviada en Slack."
   ]
  },
  {
   "cell_type": "markdown",
   "metadata": {},
   "source": [
    "FIN"
   ]
  },
  {
   "cell_type": "code",
   "execution_count": null,
   "metadata": {},
   "outputs": [],
   "source": []
  }
 ],
 "metadata": {
  "celltoolbar": "Edit Metadata",
  "colab": {
   "include_colab_link": true,
   "name": "lab_1_intro_rl.ipynb",
   "provenance": []
  },
  "kernelspec": {
   "display_name": "Python 3 (ipykernel)",
   "language": "python",
   "name": "python3"
  },
  "language_info": {
   "codemirror_mode": {
    "name": "ipython",
    "version": 3
   },
   "file_extension": ".py",
   "mimetype": "text/x-python",
   "name": "python",
   "nbconvert_exporter": "python",
   "pygments_lexer": "ipython3",
   "version": "3.10.6"
  },
  "vscode": {
   "interpreter": {
    "hash": "e7370f93d1d0cde622a1f8e1c04877d8463912d04d973331ad4851f04de6915a"
   }
  }
 },
 "nbformat": 4,
 "nbformat_minor": 4
}
